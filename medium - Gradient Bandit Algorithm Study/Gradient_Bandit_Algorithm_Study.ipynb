{
  "nbformat": 4,
  "nbformat_minor": 0,
  "metadata": {
    "colab": {
      "provenance": []
    },
    "kernelspec": {
      "name": "python3",
      "display_name": "Python 3"
    },
    "language_info": {
      "name": "python"
    }
  },
  "cells": [
    {
      "cell_type": "markdown",
      "source": [
        "# Gradient Bandit Algorithm Study"
      ],
      "metadata": {
        "id": "qg5qxpNrjAVe"
      }
    },
    {
      "cell_type": "markdown",
      "source": [
        "## Imports"
      ],
      "metadata": {
        "id": "AOrr7nJqjPQ_"
      }
    },
    {
      "cell_type": "code",
      "source": [
        "import numpy as np\n",
        "import matplotlib.pyplot as plt\n",
        "from scipy.stats import truncnorm\n",
        "from scipy.special import softmax"
      ],
      "metadata": {
        "id": "HDmFcBOqjQKG"
      },
      "execution_count": null,
      "outputs": []
    },
    {
      "cell_type": "markdown",
      "source": [
        "## Environment Model"
      ],
      "metadata": {
        "id": "SNNy6mlRjKMe"
      }
    },
    {
      "cell_type": "code",
      "execution_count": null,
      "metadata": {
        "id": "QYnuttJ1i7YE"
      },
      "outputs": [],
      "source": [
        "# Input: Action\n",
        "# Output: Reward\n",
        "\n",
        "class Student():\n",
        "    def __init__(self):\n",
        "        pass\n",
        "\n",
        "    def get_reward(self, action):\n",
        "        if action == 0:\n",
        "            score = truncnorm(a=(0-40)/40, b=(100-40)/40, loc=40, scale=40).rvs(size=1).astype(int)\n",
        "        elif action == 1:\n",
        "            score = truncnorm(a=(0-60)/10, b=(100-60)/10, loc=60, scale=10).rvs(size=1).astype(int)\n",
        "        else:\n",
        "            score = truncnorm(a=(0-50)/20, b=(100-50)/20, loc=50, scale=20).rvs(size=1).astype(int)\n",
        "\n",
        "        return score\n",
        "\n",
        "class Environment():\n",
        "    def __init__(self, student):\n",
        "        self.student = student\n",
        "\n",
        "    def step(self, action):\n",
        "        reward = self.student.get_reward(action)\n",
        "        return reward"
      ]
    },
    {
      "cell_type": "markdown",
      "source": [
        "## Agent Model"
      ],
      "metadata": {
        "id": "9yTwQbxcqoH5"
      }
    },
    {
      "cell_type": "code",
      "source": [
        "class Gradient_Bandit_Agent():\n",
        "  def __init__(self, learning_rate, num_actions, probabilities_update_interval):\n",
        "\n",
        "    # how fast the agent will learn\n",
        "    self.learning_rate = learning_rate\n",
        "\n",
        "    # we have 3 actions(programs) in the case of this problem\n",
        "    self.num_actions = num_actions\n",
        "\n",
        "    # how often do we update the probabilities of choosing each action\n",
        "    # (in this case we update the probabilities after we update the preference of\n",
        "    # every 100 students)\n",
        "    self.probabilities_update_interval = probabilities_update_interval\n",
        "\n",
        "    # initialize preferences with the same value as each other\n",
        "    self.preferences = np.full(num_actions, 1.5e4)\n",
        "\n",
        "    # history of what has been going on\n",
        "    self.reward_history = []\n",
        "    self.action_history = []\n",
        "\n",
        "    # calculate the probability of choosing each action based on the preference\n",
        "    self._calc_action_probability()\n",
        "\n",
        "    # intialize mean reward and time step values\n",
        "    self.reward_mean = 0\n",
        "    self.time_step = 0\n",
        "\n",
        "\n",
        "  def _calc_action_probability(self):\n",
        "    self.action_probabilities = softmax(self.preferences)\n",
        "\n",
        "\n",
        "  def select_action(self):\n",
        "    return np.random.choice(self.num_actions, p=self.action_probabilities)\n",
        "\n",
        "\n",
        "  def update_preferences(self, action, reward):\n",
        "\n",
        "    # add actions and rewards to the history\n",
        "    self.reward_history.append(reward)\n",
        "    self.action_history.append(action)\n",
        "\n",
        "    # one time step has passed so update the time step and the mean reward\n",
        "    self.time_step += 1\n",
        "    self.reward_mean += (1 / self.time_step) * (reward - self.reward_mean)\n",
        "\n",
        "    # now update the preferences\n",
        "    for a in range(self.num_actions):\n",
        "        if a == action:\n",
        "            self.preferences[a] += self.learning_rate * (reward - self.reward_mean) * (1 - self.action_probabilities[a])\n",
        "        else:\n",
        "            self.preferences[a] -= self.learning_rate * (reward - self.reward_mean) * self.action_probabilities[a]\n",
        "\n",
        "    # update the probabilities after updating 100 preferences of the students\n",
        "    # (AKA. at the end of each week)\n",
        "    if self.time_step % self.probabilities_update_interval == 0:\n",
        "      self._calc_action_probability()\n"
      ],
      "metadata": {
        "id": "hK9Em03xrf8L"
      },
      "execution_count": null,
      "outputs": []
    },
    {
      "cell_type": "markdown",
      "source": [
        "## Agent Train"
      ],
      "metadata": {
        "id": "PtXMNmp041cK"
      }
    },
    {
      "cell_type": "markdown",
      "source": [
        "A single Run of the training"
      ],
      "metadata": {
        "id": "ibtb1ZbL53Tt"
      }
    },
    {
      "cell_type": "code",
      "source": [
        "def run(env, agent, num_steps):\n",
        "\n",
        "  for step in range(0, num_steps):\n",
        "\n",
        "    action = agent.select_action()\n",
        "    reward = env.step(action)\n",
        "\n",
        "    agent.update_preferences(action, reward)\n",
        "\n",
        "  rewards = agent.reward_history\n",
        "\n",
        "  return np.array(rewards).squeeze()"
      ],
      "metadata": {
        "id": "ucWYnvHm41GK"
      },
      "execution_count": null,
      "outputs": []
    },
    {
      "cell_type": "markdown",
      "source": [
        "Running the Model"
      ],
      "metadata": {
        "id": "xIoy9xA-59oi"
      }
    },
    {
      "cell_type": "code",
      "source": [
        "STUDENTS = 100\n",
        "STEPS = 20*STUDENTS\n",
        "ACTIONS = 3\n",
        "LEARNING_RATES = 0.1\n",
        "\n",
        "env = Environment(Student())\n",
        "agent = Gradient_Bandit_Agent(LEARNING_RATES, ACTIONS, STUDENTS)\n",
        "rewards = run(env, agent, STEPS)\n",
        "mean_rewards = np.cumsum(rewards) / (np.arange(len(rewards)) + 1)\n",
        "\n",
        "plt.plot(mean_rewards)"
      ],
      "metadata": {
        "colab": {
          "base_uri": "https://localhost:8080/",
          "height": 447
        },
        "id": "nxbbLoUh8O0U",
        "outputId": "77740944-5624-47a7-bbef-01b2dc68d568"
      },
      "execution_count": null,
      "outputs": [
        {
          "output_type": "execute_result",
          "data": {
            "text/plain": [
              "[<matplotlib.lines.Line2D at 0x7ec1c69b1c00>]"
            ]
          },
          "metadata": {},
          "execution_count": 73
        },
        {
          "output_type": "display_data",
          "data": {
            "text/plain": [
              "<Figure size 640x480 with 1 Axes>"
            ],
            "image/png": "[encoded data removed]"
          },
          "metadata": {}
        }
      ]
    },
    {
      "cell_type": "code",
      "source": [],
      "metadata": {
        "id": "hkKF6oW09KIg"
      },
      "execution_count": null,
      "outputs": []
    }
  ]
}